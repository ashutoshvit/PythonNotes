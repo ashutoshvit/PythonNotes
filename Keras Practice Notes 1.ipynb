{
  "nbformat": 4,
  "nbformat_minor": 0,
  "metadata": {
    "colab": {
      "name": "Untitled0.ipynb",
      "provenance": [],
      "authorship_tag": "ABX9TyP4J+cIePD4D+WIhRa2yoUM"
    },
    "kernelspec": {
      "name": "python3",
      "display_name": "Python 3"
    }
  },
  "cells": [
    {
      "cell_type": "code",
      "metadata": {
        "id": "EKDzcMq7oIAN",
        "colab_type": "code",
        "colab": {}
      },
      "source": [
        "from tensorflow import keras\n",
        "from tensorflow.keras import layers"
      ],
      "execution_count": 3,
      "outputs": []
    },
    {
      "cell_type": "code",
      "metadata": {
        "id": "DdP-S6bVoXlY",
        "colab_type": "code",
        "colab": {}
      },
      "source": [
        "model=keras.Sequential()\n",
        "model.add(layers.Dense(64,kernel_initializer='uniform',input_shape=(10,)))\n",
        "model.add(layers.Activation('softmax'))\n",
        "opt=keras.optimizers.Adam(learning_rate=0.001)\n",
        "model.compile(loss='categorical_crossentropy',optimizer=opt)"
      ],
      "execution_count": 4,
      "outputs": []
    },
    {
      "cell_type": "code",
      "metadata": {
        "id": "T4sToEP5p8zh",
        "colab_type": "code",
        "colab": {}
      },
      "source": [
        ""
      ],
      "execution_count": null,
      "outputs": []
    }
  ]
}