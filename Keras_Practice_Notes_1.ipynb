{
  "nbformat": 4,
  "nbformat_minor": 0,
  "metadata": {
    "colab": {
      "name": "Keras Practice Notes 1.ipynb",
      "provenance": [],
      "collapsed_sections": [],
      "authorship_tag": "ABX9TyMsVCau33hwmsea07rwxEU2",
      "include_colab_link": true
    },
    "kernelspec": {
      "name": "python3",
      "display_name": "Python 3"
    }
  },
  "cells": [
    {
      "cell_type": "markdown",
      "metadata": {
        "id": "view-in-github",
        "colab_type": "text"
      },
      "source": [
        "<a href=\"https://colab.research.google.com/github/ashutoshvit/PythonNotes/blob/master/Keras_Practice_Notes_1.ipynb\" target=\"_parent\"><img src=\"https://colab.research.google.com/assets/colab-badge.svg\" alt=\"Open In Colab\"/></a>"
      ]
    },
    {
      "cell_type": "code",
      "metadata": {
        "id": "EKDzcMq7oIAN",
        "colab_type": "code",
        "colab": {}
      },
      "source": [
        "from tensorflow import keras\n",
        "from tensorflow.keras import layers"
      ],
      "execution_count": 3,
      "outputs": []
    },
    {
      "cell_type": "code",
      "metadata": {
        "id": "DdP-S6bVoXlY",
        "colab_type": "code",
        "colab": {}
      },
      "source": [
        "## instantiate an optimizer before passing it to model.compile()\n",
        "model=keras.Sequential()\n",
        "model.add(layers.Dense(64,kernel_initializer='uniform',input_shape=(10,)))\n",
        "model.add(layers.Activation('softmax'))\n",
        "opt=keras.optimizers.Adam(learning_rate=0.001)\n",
        "model.compile(loss='categorical_crossentropy',optimizer=opt)"
      ],
      "execution_count": 5,
      "outputs": []
    },
    {
      "cell_type": "code",
      "metadata": {
        "id": "T4sToEP5p8zh",
        "colab_type": "code",
        "colab": {}
      },
      "source": [
        "# pass optimizer by name: default parameters will be used\n",
        "model.compile(loss='categorical_crossentropy',optimizer=opt)"
      ],
      "execution_count": 6,
      "outputs": []
    },
    {
      "cell_type": "markdown",
      "metadata": {
        "id": "uQJdMyR7vnBe",
        "colab_type": "text"
      },
      "source": [
        "### Learning rate decay / scheduling\n",
        "-  You can use a learning rate schedule to modulate how the learning rate of your optimizer changes over time:"
      ]
    },
    {
      "cell_type": "code",
      "metadata": {
        "id": "duuN6Urqvtla",
        "colab_type": "code",
        "colab": {}
      },
      "source": [
        "lr_schedule = keras.optimizers.schedules.ExponentialDecay(\n",
        "    initial_learning_rate=1e-2,\n",
        "    decay_steps=10000,\n",
        "    decay_rate=0.9)\n",
        "optimizer = keras.optimizers.SGD(learning_rate=lr_schedule)"
      ],
      "execution_count": 10,
      "outputs": []
    },
    {
      "cell_type": "markdown",
      "metadata": {
        "id": "16Wdd2AdwPyf",
        "colab_type": "text"
      },
      "source": [
        "### Available optimizers\n",
        "- SGD:-\n",
        "        Gradient descent (with momentum) optimizer.\n",
        "        velocity = momentum * velocity - learning_rate * g\n",
        "        w = w + momentum * velocity - learning_rate * g\n",
        "- RMSprop\n",
        "- Adam\n",
        "- Adadelta\n",
        "- Adagrad\n",
        "- Adamax\n",
        "- Nadam\n",
        "- Ftrl"
      ]
    },
    {
      "cell_type": "code",
      "metadata": {
        "id": "TCEQhjjd1-kh",
        "colab_type": "code",
        "colab": {
          "base_uri": "https://localhost:8080/",
          "height": 51
        },
        "outputId": "3a393330-23db-4695-c939-25abccc8bb28"
      },
      "source": [
        "import tensorflow as tf\n",
        "opt=tf.keras.optimizers.SGD(learning_rate=0.001)\n",
        "var=tf.Variable(1.0)\n",
        "loss=lambda:(var**2)/2.0\n",
        "print(loss)\n",
        "step_count=opt.minimize(loss,[var]).numpy()\n",
        "var.numpy()\n"
      ],
      "execution_count": 18,
      "outputs": [
        {
          "output_type": "stream",
          "text": [
            "<function <lambda> at 0x7f72ac98bd90>\n"
          ],
          "name": "stdout"
        },
        {
          "output_type": "execute_result",
          "data": {
            "text/plain": [
              "0.999"
            ]
          },
          "metadata": {
            "tags": []
          },
          "execution_count": 18
        }
      ]
    },
    {
      "cell_type": "code",
      "metadata": {
        "id": "ZiH4mlRx2Hof",
        "colab_type": "code",
        "colab": {
          "base_uri": "https://localhost:8080/",
          "height": 34
        },
        "outputId": "3a924881-8dbc-4c19-d57e-df2397fbbcfb"
      },
      "source": [
        ">>> opt = tf.keras.optimizers.SGD(learning_rate=0.1, momentum=0.9)\n",
        ">>> var = tf.Variable(1.0)\n",
        ">>> val0 = var.value()\n",
        ">>> loss = lambda: (var ** 2)/2.0         # d(loss)/d(var1) = var1\n",
        ">>> # First step is `- learning_rate * grad`  \n",
        ">>> step_count = opt.minimize(loss, [var]).numpy()\n",
        ">>> val1 = var.value()\n",
        ">>> (val0 - val1).numpy()\n",
        "0.1\n",
        ">>> # On later steps, step-size increases because of momentum  \n",
        ">>> step_count = opt.minimize(loss, [var]).numpy()\n",
        ">>> val2 = var.value()\n",
        ">>> (val1 - val2).numpy()\n",
        "0.18"
      ],
      "execution_count": 17,
      "outputs": [
        {
          "output_type": "execute_result",
          "data": {
            "text/plain": [
              "0.18"
            ]
          },
          "metadata": {
            "tags": []
          },
          "execution_count": 17
        }
      ]
    },
    {
      "cell_type": "code",
      "metadata": {
        "id": "ewxcwjJz7Uor",
        "colab_type": "code",
        "colab": {}
      },
      "source": [
        ""
      ],
      "execution_count": null,
      "outputs": []
    }
  ]
}